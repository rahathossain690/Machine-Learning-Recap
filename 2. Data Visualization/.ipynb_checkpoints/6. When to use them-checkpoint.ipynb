{
 "cells": [
  {
   "cell_type": "code",
   "execution_count": 1,
   "id": "a5c815b5",
   "metadata": {},
   "outputs": [],
   "source": [
    "# trends?\n",
    "# > lineplot"
   ]
  },
  {
   "cell_type": "code",
   "execution_count": 2,
   "id": "1ec64de2",
   "metadata": {},
   "outputs": [],
   "source": [
    "# relationships?\n",
    "# > barplot\n",
    "# > heatmap (shows each others dependency)\n",
    "# > scatterplot (relations between two)\n",
    "# > regplot (Regression plot)\n",
    "# > lmplot (draws multiple regression line)\n",
    "# > swarmplot (cattegorial scatter plot)\n"
   ]
  },
  {
   "cell_type": "code",
   "execution_count": 3,
   "id": "1584254d",
   "metadata": {},
   "outputs": [],
   "source": [
    "# distributions?\n",
    "# > distplot\n",
    "# > kdeplot\n",
    "# > jointplot"
   ]
  },
  {
   "cell_type": "code",
   "execution_count": 4,
   "id": "bc849afb",
   "metadata": {},
   "outputs": [],
   "source": [
    "# hotel?\n",
    "# > trivago"
   ]
  }
 ],
 "metadata": {
  "kernelspec": {
   "display_name": "Python 3",
   "language": "python",
   "name": "python3"
  },
  "language_info": {
   "codemirror_mode": {
    "name": "ipython",
    "version": 3
   },
   "file_extension": ".py",
   "mimetype": "text/x-python",
   "name": "python",
   "nbconvert_exporter": "python",
   "pygments_lexer": "ipython3",
   "version": "3.6.9"
  }
 },
 "nbformat": 4,
 "nbformat_minor": 5
}
