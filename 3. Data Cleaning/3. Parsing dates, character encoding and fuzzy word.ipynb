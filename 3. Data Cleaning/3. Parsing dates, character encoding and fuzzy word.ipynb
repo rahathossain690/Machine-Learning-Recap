{
 "cells": [
  {
   "cell_type": "code",
   "execution_count": 1,
   "id": "5799be56",
   "metadata": {},
   "outputs": [],
   "source": [
    "# use datetime module to parse dates and convert them\n",
    "\n",
    "# example code\n",
    "# df['Dates'] = df.to_datetime(df['Dates'], format=\"%m/%d/%y\")"
   ]
  },
  {
   "cell_type": "code",
   "execution_count": 2,
   "id": "02dabc55",
   "metadata": {},
   "outputs": [
    {
     "data": {
      "text/plain": [
       "str"
      ]
     },
     "execution_count": 2,
     "metadata": {},
     "output_type": "execute_result"
    }
   ],
   "source": [
    "# many times you may have to specify charecter encoding for reading csv\n",
    "\n",
    "with open('spotify.csv') as file:\n",
    "    x = file.read(10000)  # read first 10000 bytes\n",
    "\n",
    "type(x) # get the type\n",
    "\n",
    "# df = pd.read_csv('spotify.csv', encoding='str') # specify the encoding"
   ]
  },
  {
   "cell_type": "code",
   "execution_count": 3,
   "id": "8eef0a06",
   "metadata": {},
   "outputs": [],
   "source": [
    "# converting \n",
    "\n",
    "# after = before.encode(\"ascii\", errors = \"replace\") # changes encoding + replaces error chars"
   ]
  },
  {
   "cell_type": "code",
   "execution_count": null,
   "id": "8c67383f",
   "metadata": {},
   "outputs": [],
   "source": [
    "# For Fuzzy words like Germany/germany South Korea/southkorea (kinda similar words)\n",
    "\n",
    "# # function to replace rows in the provided column of the provided dataframe\n",
    "# # that match the provided string above the provided ratio with the provided string\n",
    "\n",
    "# def replace_matches_in_column(df, column, string_to_match, min_ratio = 47):\n",
    "#     # get a list of unique strings\n",
    "#     strings = df[column].unique()\n",
    "    \n",
    "#     # get the top 10 closest matches to our input string\n",
    "#     matches = fuzzywuzzy.process.extract(string_to_match, strings, \n",
    "#                                          limit=10, scorer=fuzzywuzzy.fuzz.token_sort_ratio)\n",
    "\n",
    "#     # only get matches with a ratio > 90\n",
    "#     close_matches = [matches[0] for matches in matches if matches[1] >= min_ratio]\n",
    "\n",
    "#     # get the rows of all the close matches in our dataframe\n",
    "#     rows_with_matches = df[column].isin(close_matches)\n",
    "\n",
    "#     # replace all rows with close matches with the input matches \n",
    "#     df.loc[rows_with_matches, column] = string_to_match\n",
    "    \n",
    "#     # let us know the function's done\n",
    "#     print(\"All done!\")"
   ]
  }
 ],
 "metadata": {
  "kernelspec": {
   "display_name": "Python 3",
   "language": "python",
   "name": "python3"
  },
  "language_info": {
   "codemirror_mode": {
    "name": "ipython",
    "version": 3
   },
   "file_extension": ".py",
   "mimetype": "text/x-python",
   "name": "python",
   "nbconvert_exporter": "python",
   "pygments_lexer": "ipython3",
   "version": "3.6.9"
  }
 },
 "nbformat": 4,
 "nbformat_minor": 5
}
