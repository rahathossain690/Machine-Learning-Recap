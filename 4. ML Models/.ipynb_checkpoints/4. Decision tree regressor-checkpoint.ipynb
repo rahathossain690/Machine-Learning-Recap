{
 "cells": [
  {
   "cell_type": "code",
   "execution_count": 12,
   "id": "c5c277f8",
   "metadata": {},
   "outputs": [],
   "source": [
    "from sklearn import datasets\n",
    "from sklearn.tree import DecisionTreeRegressor\n",
    "from sklearn.metrics import accuracy_score\n",
    "from sklearn.model_selection import train_test_split"
   ]
  },
  {
   "cell_type": "code",
   "execution_count": 3,
   "id": "01ae51e2",
   "metadata": {},
   "outputs": [
    {
     "data": {
      "text/plain": [
       "(506, 13)"
      ]
     },
     "execution_count": 3,
     "metadata": {},
     "output_type": "execute_result"
    }
   ],
   "source": [
    "X, Y = datasets.load_boston().data, datasets.load_boston().target\n",
    "X.shape"
   ]
  },
  {
   "cell_type": "code",
   "execution_count": 4,
   "id": "4fff9f6c",
   "metadata": {},
   "outputs": [
    {
     "data": {
      "text/plain": [
       "(506,)"
      ]
     },
     "execution_count": 4,
     "metadata": {},
     "output_type": "execute_result"
    }
   ],
   "source": [
    "Y.shape"
   ]
  },
  {
   "cell_type": "code",
   "execution_count": 7,
   "id": "59e67b5f",
   "metadata": {},
   "outputs": [],
   "source": [
    "train_x, test_x, train_y, test_y = train_test_split(X, Y, test_size=0.2)"
   ]
  },
  {
   "cell_type": "code",
   "execution_count": 8,
   "id": "1bbbd2f4",
   "metadata": {},
   "outputs": [
    {
     "data": {
      "text/plain": [
       "DecisionTreeRegressor()"
      ]
     },
     "execution_count": 8,
     "metadata": {},
     "output_type": "execute_result"
    }
   ],
   "source": [
    "model = DecisionTreeRegressor()\n",
    "model.fit(train_x, train_y)"
   ]
  },
  {
   "cell_type": "code",
   "execution_count": 10,
   "id": "38c38d6c",
   "metadata": {},
   "outputs": [
    {
     "data": {
      "text/plain": [
       "array([11.5, 20. , 24.8, 25.3, 50. , 21.6, 37. , 15.6, 43.5, 48.5, 23.1,\n",
       "       50. , 21. , 18.4, 14. , 19.1, 22.7, 14.1, 14.3, 18.5, 50. , 26.6,\n",
       "       21.7, 21.2, 11.5,  7.2, 44. , 18.7, 16.1, 19.1, 22.4, 32. , 22.4,\n",
       "       36.1, 28.2, 13.1, 28.1, 24.6, 11.7, 17.8, 20.5, 10.5, 27.1, 27.5,\n",
       "       50. , 15. , 20.6, 17.1, 28. , 21.7, 20. , 10.8, 48.5, 31.7, 24.7,\n",
       "       20. , 13.6, 41.3, 33.4, 14.3, 29.4, 21. , 15.6, 28.6, 27.5, 18.8,\n",
       "       35.2, 42.3, 50. , 21.2, 28.7, 23.9, 20.4, 15.6, 34.9, 36. , 34.9,\n",
       "       24.1, 19.4, 21. , 22.4, 14.9, 24.4, 23.9, 16.6, 31.7, 15.6, 17. ,\n",
       "       25.1, 14.3, 19.1, 12.6, 20.6, 26.6, 20.3, 34.9, 43.1, 12.5, 13.8,\n",
       "       22. , 28. , 21.2])"
      ]
     },
     "execution_count": 10,
     "metadata": {},
     "output_type": "execute_result"
    }
   ],
   "source": [
    "pred = model.predict(test_x)\n",
    "pred"
   ]
  },
  {
   "cell_type": "code",
   "execution_count": 15,
   "id": "edd422c4",
   "metadata": {},
   "outputs": [
    {
     "data": {
      "text/plain": [
       "0.8008691308512976"
      ]
     },
     "execution_count": 15,
     "metadata": {},
     "output_type": "execute_result"
    }
   ],
   "source": [
    "model.score(test_x, test_y)"
   ]
  },
  {
   "cell_type": "code",
   "execution_count": null,
   "id": "f143f1e7",
   "metadata": {},
   "outputs": [],
   "source": []
  }
 ],
 "metadata": {
  "kernelspec": {
   "display_name": "Python 3",
   "language": "python",
   "name": "python3"
  },
  "language_info": {
   "codemirror_mode": {
    "name": "ipython",
    "version": 3
   },
   "file_extension": ".py",
   "mimetype": "text/x-python",
   "name": "python",
   "nbconvert_exporter": "python",
   "pygments_lexer": "ipython3",
   "version": "3.6.9"
  }
 },
 "nbformat": 4,
 "nbformat_minor": 5
}
