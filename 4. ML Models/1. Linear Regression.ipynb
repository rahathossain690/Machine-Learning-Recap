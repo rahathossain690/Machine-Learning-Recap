{
 "cells": [
  {
   "cell_type": "code",
   "execution_count": 20,
   "id": "a0b92247",
   "metadata": {},
   "outputs": [],
   "source": [
    "import sklearn\n",
    "from sklearn import datasets, linear_model\n",
    "import pandas as pd\n",
    "import matplotlib.pyplot as plt\n",
    "%matplotlib inline\n",
    "from sklearn.model_selection import train_test_split"
   ]
  },
  {
   "cell_type": "code",
   "execution_count": 37,
   "id": "302b8681",
   "metadata": {},
   "outputs": [],
   "source": [
    "X, Y = datasets.load_iris().data, datasets.load_iris().target"
   ]
  },
  {
   "cell_type": "code",
   "execution_count": 36,
   "id": "9cab8d1e",
   "metadata": {},
   "outputs": [
    {
     "data": {
      "text/plain": [
       "(150,)"
      ]
     },
     "execution_count": 36,
     "metadata": {},
     "output_type": "execute_result"
    }
   ],
   "source": [
    "train_x, test_x, train_y, test_y = train_test_split(X, Y, test_size=0.2)"
   ]
  },
  {
   "cell_type": "code",
   "execution_count": 27,
   "id": "87270c7b",
   "metadata": {},
   "outputs": [
    {
     "data": {
      "text/plain": [
       "LinearRegression()"
      ]
     },
     "execution_count": 27,
     "metadata": {},
     "output_type": "execute_result"
    }
   ],
   "source": [
    "model = linear_model.LinearRegression()\n",
    "model.fit(train_x, train_y)"
   ]
  },
  {
   "cell_type": "code",
   "execution_count": 28,
   "id": "65247cb1",
   "metadata": {},
   "outputs": [
    {
     "data": {
      "text/plain": [
       "array([ 1.19179421,  0.01379757,  1.39539575,  1.83352706, -0.04809398,\n",
       "        1.31669925,  0.05299097,  1.20349007,  1.36979849, -0.05134252,\n",
       "       -0.01084058,  1.8494664 ,  1.20741952,  1.77855377,  1.03262849,\n",
       "        1.99924808,  1.11852093,  1.18604787,  1.29110199,  1.38101738,\n",
       "        0.10485287,  1.33371256,  1.74943799,  1.69935325,  1.77402288,\n",
       "       -0.21215269,  1.69472062,  1.65723317, -0.07526004,  1.16615721])"
      ]
     },
     "execution_count": 28,
     "metadata": {},
     "output_type": "execute_result"
    }
   ],
   "source": [
    "model.predict(test_x)"
   ]
  },
  {
   "cell_type": "code",
   "execution_count": 30,
   "id": "182edde2",
   "metadata": {},
   "outputs": [
    {
     "data": {
      "text/plain": [
       "0.9105728652365189"
      ]
     },
     "execution_count": 30,
     "metadata": {},
     "output_type": "execute_result"
    }
   ],
   "source": [
    "model.score(test_x, test_y) # this is great"
   ]
  },
  {
   "cell_type": "code",
   "execution_count": null,
   "id": "0a1a2139",
   "metadata": {},
   "outputs": [],
   "source": []
  }
 ],
 "metadata": {
  "kernelspec": {
   "display_name": "Python 3",
   "language": "python",
   "name": "python3"
  },
  "language_info": {
   "codemirror_mode": {
    "name": "ipython",
    "version": 3
   },
   "file_extension": ".py",
   "mimetype": "text/x-python",
   "name": "python",
   "nbconvert_exporter": "python",
   "pygments_lexer": "ipython3",
   "version": "3.6.9"
  }
 },
 "nbformat": 4,
 "nbformat_minor": 5
}
